{
 "cells": [
  {
   "cell_type": "code",
   "execution_count": 2,
   "id": "b351b865-eddc-4763-8180-c86b98d5fb27",
   "metadata": {},
   "outputs": [],
   "source": [
    "import pandas as pd"
   ]
  },
  {
   "cell_type": "code",
   "execution_count": 2,
   "id": "1383f827-07d8-4c30-a9eb-9851407839e9",
   "metadata": {},
   "outputs": [
    {
     "data": {
      "text/plain": [
       "'2.2.2'"
      ]
     },
     "execution_count": 2,
     "metadata": {},
     "output_type": "execute_result"
    }
   ],
   "source": [
    "pd.__version__"
   ]
  },
  {
   "cell_type": "code",
   "execution_count": 3,
   "id": "04fdf9cc-32d6-4b94-8243-06fb29fd53e2",
   "metadata": {},
   "outputs": [],
   "source": [
    "df= pd.read_parquet('https://d37ci6vzurychx.cloudfront.net/trip-data/yellow_tripdata_2023-01.parquet')\n",
    "df.head()\n",
    "df.to_csv('yellow_tripdata_2023-01.csv', index=False)"
   ]
  },
  {
   "cell_type": "code",
   "execution_count": 9,
   "id": "5fffeb7d-0815-467c-8f3e-44faebb09e6a",
   "metadata": {},
   "outputs": [
    {
     "name": "stdout",
     "output_type": "stream",
     "text": [
      "19\n"
     ]
    }
   ],
   "source": [
    "#How many columns are there?\n",
    "print(len(df.columns))\n"
   ]
  },
  {
   "cell_type": "code",
   "execution_count": 17,
   "id": "3efb9fcc-5ffd-408d-b95e-a4cb20a1832c",
   "metadata": {},
   "outputs": [],
   "source": [
    "#What's the standard deviation of the trips duration in January?\n",
    "df['tpep_pickup_datetime'] = pd.to_datetime(df['tpep_pickup_datetime'])\n",
    "df['tpep_dropoff_datetime'] = pd.to_datetime(df['tpep_dropoff_datetime'])\n",
    "\n",
    "df['duration'] = (df['tpep_dropoff_datetime'] - df['tpep_pickup_datetime']).dt.total_seconds() / 60"
   ]
  },
  {
   "cell_type": "code",
   "execution_count": 18,
   "id": "4131a6e9-daf1-4cae-b97b-45865e148a25",
   "metadata": {},
   "outputs": [
    {
     "name": "stdout",
     "output_type": "stream",
     "text": [
      "42.594351241920904\n"
     ]
    }
   ],
   "source": [
    "print(df['duration'].std())"
   ]
  },
  {
   "cell_type": "code",
   "execution_count": 31,
   "id": "49753903-9b81-44f9-83ba-0364f1cbb021",
   "metadata": {},
   "outputs": [
    {
     "name": "stdout",
     "output_type": "stream",
     "text": [
      "Fraction of records kept: 98.12%\n"
     ]
    }
   ],
   "source": [
    "#What fraction of the records left after you dropped the outliers?\n",
    "df_clean = df[(df['duration'] >= 1) & (df['duration'] <= 60)]\n",
    "fraction = len(df_clean) / len(df)\n",
    "print(f\"Fraction of records kept: {fraction:.2%}\")\n"
   ]
  },
  {
   "cell_type": "code",
   "execution_count": 25,
   "id": "245d1799-1830-4814-90a3-532b1b325365",
   "metadata": {},
   "outputs": [],
   "source": [
    "#What's the dimensionality of this matrix (number of columns)?\n",
    "df_clean = df[(df['duration'] >= 1) & (df['duration'] <= 60)]"
   ]
  },
  {
   "cell_type": "code",
   "execution_count": 27,
   "id": "5a91e44e-e65e-4627-918d-4a8cb8da12dc",
   "metadata": {},
   "outputs": [],
   "source": [
    "df_clean = df_clean.copy()  # explicitly make a copy to avoid the warning\n",
    "df_clean.loc[:, 'PULocationID'] = df_clean['PULocationID'].astype(str)\n",
    "df_clean.loc[:, 'DOLocationID'] = df_clean['DOLocationID'].astype(str)"
   ]
  },
  {
   "cell_type": "code",
   "execution_count": 28,
   "id": "83d66393-3075-4106-9ef1-82693568d7d8",
   "metadata": {},
   "outputs": [],
   "source": [
    "dicts = df_clean[['PULocationID', 'DOLocationID']].to_dict(orient='records')"
   ]
  },
  {
   "cell_type": "code",
   "execution_count": 29,
   "id": "e3179fa7-b90c-4aad-9537-a554ddd697d2",
   "metadata": {},
   "outputs": [],
   "source": [
    "from sklearn.feature_extraction import DictVectorizer\n",
    "\n",
    "dv = DictVectorizer()\n",
    "X = dv.fit_transform(dicts)"
   ]
  },
  {
   "cell_type": "code",
   "execution_count": 30,
   "id": "29ce5878-3730-4a6e-9eca-c9c2a3cec496",
   "metadata": {},
   "outputs": [
    {
     "name": "stdout",
     "output_type": "stream",
     "text": [
      "(3009173, 515)\n"
     ]
    }
   ],
   "source": [
    "print(X.shape)"
   ]
  },
  {
   "cell_type": "code",
   "execution_count": 40,
   "id": "092e536d-170a-435d-915a-36b962915c59",
   "metadata": {},
   "outputs": [
    {
     "name": "stdout",
     "output_type": "stream",
     "text": [
      "RMSE on train: 7.65\n"
     ]
    }
   ],
   "source": [
    "#What's the RMSE on train?\n",
    "# Step 4: DictVectorizer\n",
    "from sklearn.feature_extraction import DictVectorizer\n",
    "dicts = df_clean[['PULocationID', 'DOLocationID']].to_dict(orient='records')\n",
    "dv = DictVectorizer()\n",
    "X_train = dv.fit_transform(dicts)\n",
    "\n",
    "# Step 5: Train model\n",
    "from sklearn.linear_model import LinearRegression\n",
    "model = LinearRegression()\n",
    "model.fit(X_train, df_clean['duration'])\n",
    "\n",
    "# Step 6: Predict & evaluate\n",
    "from sklearn.metrics import mean_squared_error\n",
    "import numpy as np\n",
    "y_pred = model.predict(X_train)\n",
    "rmse = np.sqrt(mean_squared_error(df_clean['duration'], y_pred))\n",
    "print(f\"RMSE on train: {rmse:.2f}\")"
   ]
  },
  {
   "cell_type": "code",
   "execution_count": null,
   "id": "8e426fc5-7c03-4eb4-b07b-54b9ac3a030a",
   "metadata": {},
   "outputs": [],
   "source": []
  }
 ],
 "metadata": {
  "kernelspec": {
   "display_name": "exp-lab2-env",
   "language": "python",
   "name": "python3"
  },
  "language_info": {
   "codemirror_mode": {
    "name": "ipython",
    "version": 3
   },
   "file_extension": ".py",
   "mimetype": "text/x-python",
   "name": "python",
   "nbconvert_exporter": "python",
   "pygments_lexer": "ipython3",
   "version": "3.9.21"
  }
 },
 "nbformat": 4,
 "nbformat_minor": 5
}
